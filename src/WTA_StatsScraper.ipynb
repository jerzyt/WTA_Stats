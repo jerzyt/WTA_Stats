{
 "cells": [
  {
   "cell_type": "code",
   "execution_count": null,
   "metadata": {},
   "outputs": [],
   "source": [
    "import re\n",
    "import time\n",
    "import pandas as pd\n",
    "import requests\n",
    "\n",
    "from pathlib import Path\n",
    "\n",
    "from bs4 import BeautifulSoup\n",
    "from selenium import webdriver\n",
    "from selenium.webdriver.chrome.options import Options\n",
    "from selenium.webdriver.common.by import By\n",
    "from selenium.webdriver.support.ui import WebDriverWait\n",
    "from selenium.webdriver.support import expected_conditions as EC\n",
    "from selenium.common.exceptions import NoSuchElementException\n",
    "\n",
    "from io import StringIO\n",
    "\n",
    "import qgrid"
   ]
  },
  {
   "cell_type": "code",
   "execution_count": null,
   "metadata": {},
   "outputs": [],
   "source": [
    "### Main ########################################################################\n",
    "\n",
    "url = r'http://wtatennis.com/stats'\n",
    "driver = webdriver.Chrome()\n",
    "driver.get(url)"
   ]
  },
  {
   "cell_type": "code",
   "execution_count": null,
   "metadata": {},
   "outputs": [],
   "source": [
    "# Wait for button \"SHOW MORE\" and \"click it\" to get all rows, rather than just the first 20\n",
    "\n",
    "def get_full_stats(driver):\n",
    "    try:\n",
    "        klass = \"widget-footer__more-button\"\n",
    "        elem = WebDriverWait(driver, 10).until(\n",
    "                EC.element_to_be_clickable((By.CLASS_NAME, klass))).click()\n",
    "        \n",
    "    finally:\n",
    "        print(\"Button clicked\")\n",
    "\n",
    "get_full_stats(driver)"
   ]
  },
  {
   "cell_type": "code",
   "execution_count": null,
   "metadata": {
    "scrolled": true
   },
   "outputs": [],
   "source": [
    "# Ingest the stats table.\n",
    "# CAUTION: before executing this code, need to scroll to the bottom of the page\n",
    "# in the Selenium/Chromium window to load stats for all players.\n",
    "# FIXME: this needs to be resolved\n",
    "\n",
    "def get_table(driver):\n",
    "    try:\n",
    "        klass = \"stats-list__table\"\n",
    "        table = WebDriverWait(driver, 10).until(\n",
    "                EC.presence_of_element_located((By.CLASS_NAME, klass))\n",
    "                )\n",
    "    finally:\n",
    "        soup = BeautifulSoup(driver.page_source, 'html.parser')\n",
    "        tbl = soup.find(\"table\", {\"class\": klass})\n",
    "        dfs = pd.read_html(StringIO(str(tbl)))\n",
    "        return dfs\n",
    "\n",
    "dfs = get_table(driver)\n",
    "df = dfs[0]"
   ]
  },
  {
   "cell_type": "code",
   "execution_count": null,
   "metadata": {},
   "outputs": [],
   "source": [
    "df.columns"
   ]
  },
  {
   "cell_type": "code",
   "execution_count": null,
   "metadata": {},
   "outputs": [],
   "source": [
    "new_cols = [x for x in df.columns if not x.startswith('Unnamed: ')]\n",
    "new_cols"
   ]
  },
  {
   "cell_type": "code",
   "execution_count": null,
   "metadata": {},
   "outputs": [],
   "source": [
    "dfNew = df[new_cols]\n",
    "dfNew = dfNew.dropna()\n",
    "qgrid.show_grid(dfNew)"
   ]
  },
  {
   "cell_type": "code",
   "execution_count": null,
   "metadata": {},
   "outputs": [],
   "source": [
    "'''\n",
    "<button class=\"btn widget-footer__more-button stats-list__show-more js-show-more-button\" data-text=\"Show More\">Show More</button>\n",
    "\n",
    "<button class=\"btn widget-footer__more-button stats-list__show-more js-show-more-button\" data-text=\"Show More\">Show More</button>\n",
    "\n",
    "#main-content > div > div.stats-list__content > button\n",
    "\n",
    "document.querySelector(\"#main-content > div > div.stats-list__content > button\")\n",
    "'''"
   ]
  }
 ],
 "metadata": {
  "kernelspec": {
   "display_name": "Python 3 (ipykernel)",
   "language": "python",
   "name": "python3"
  },
  "language_info": {
   "codemirror_mode": {
    "name": "ipython",
    "version": 3
   },
   "file_extension": ".py",
   "mimetype": "text/x-python",
   "name": "python",
   "nbconvert_exporter": "python",
   "pygments_lexer": "ipython3",
   "version": "3.10.13"
  }
 },
 "nbformat": 4,
 "nbformat_minor": 4
}
