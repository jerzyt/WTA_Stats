{
 "cells": [
  {
   "cell_type": "code",
   "execution_count": null,
   "metadata": {},
   "outputs": [],
   "source": [
    "import re\n",
    "import time\n",
    "import pandas as pd\n",
    "import numpy as np\n",
    "import requests\n",
    "import matplotlib.pyplot as plt\n",
    "\n",
    "from pathlib import Path\n",
    "\n",
    "from bs4 import BeautifulSoup\n",
    "from selenium import webdriver\n",
    "from selenium.webdriver.chrome.options import Options\n",
    "from selenium.webdriver.common.by import By\n",
    "from selenium.webdriver.support.ui import WebDriverWait\n",
    "from selenium.webdriver.support import expected_conditions as EC\n",
    "from selenium.common.exceptions import NoSuchElementException\n",
    "\n",
    "from io import StringIO\n",
    "\n",
    "import qgrid\n",
    "\n",
    "import seaborn as sns"
   ]
  },
  {
   "cell_type": "code",
   "execution_count": null,
   "metadata": {},
   "outputs": [],
   "source": [
    "### Main ########################################################################\n",
    "\n",
    "url = r'http://wtatennis.com/stats'\n",
    "driver = webdriver.Chrome()\n",
    "driver.get(url)"
   ]
  },
  {
   "cell_type": "code",
   "execution_count": null,
   "metadata": {},
   "outputs": [],
   "source": [
    "# Wait for button \"SHOW MORE\" and \"click it\" to get all rows, rather than just the first 20\n",
    "\n",
    "def get_full_stats(driver):\n",
    "    try:\n",
    "        klass = \"widget-footer__more-button\"\n",
    "        elem = WebDriverWait(driver, 10).until(\n",
    "                EC.element_to_be_clickable((By.CLASS_NAME, klass))).click()\n",
    "        \n",
    "    except NoSuchElementException as error:\n",
    "        print(error)\n",
    "        driver.quit()\n",
    "        \n",
    "    else:\n",
    "        print(\"Button clicked\")\n",
    "\n",
    "get_full_stats(driver)"
   ]
  },
  {
   "cell_type": "code",
   "execution_count": null,
   "metadata": {
    "scrolled": true
   },
   "outputs": [],
   "source": [
    "# Ingest the stats table.\n",
    "# CAUTION: before executing this code, need to scroll to the bottom of the page\n",
    "# in the Selenium/Chromium window to load stats for all players.\n",
    "# FIXME: this needs to be resolved\n",
    "\n",
    "def get_table(driver):\n",
    "    try:\n",
    "        klass = \"stats-list__table\"\n",
    "        table = WebDriverWait(driver, 10).until(\n",
    "                EC.presence_of_element_located((By.CLASS_NAME, klass))\n",
    "                )\n",
    "    except Exception as error:\n",
    "        print(error)\n",
    "        \n",
    "    else:\n",
    "        soup = BeautifulSoup(driver.page_source, 'html.parser')\n",
    "        tbl = soup.find(\"table\", {\"class\": klass})\n",
    "        dfs = pd.read_html(StringIO(str(tbl)))\n",
    "        return dfs\n",
    "    \n",
    "    finally:\n",
    "        driver.quit()\n",
    "\n",
    "dfs = get_table(driver)\n",
    "df = dfs[0]"
   ]
  },
  {
   "cell_type": "code",
   "execution_count": null,
   "metadata": {},
   "outputs": [],
   "source": [
    "df.shape"
   ]
  },
  {
   "cell_type": "code",
   "execution_count": null,
   "metadata": {},
   "outputs": [],
   "source": [
    "df.columns"
   ]
  },
  {
   "cell_type": "code",
   "execution_count": null,
   "metadata": {},
   "outputs": [],
   "source": [
    "new_cols = [x for x in df.columns if not x.startswith('Unnamed: ')]\n",
    "new_cols"
   ]
  },
  {
   "cell_type": "code",
   "execution_count": null,
   "metadata": {},
   "outputs": [],
   "source": [
    "dfNew = df[new_cols]\n",
    "dfNew = dfNew.dropna()\n",
    "qgrid.show_grid(dfNew)"
   ]
  },
  {
   "cell_type": "code",
   "execution_count": null,
   "metadata": {},
   "outputs": [],
   "source": [
    "fileName = '../Data/clean_stats.pkl'"
   ]
  },
  {
   "cell_type": "code",
   "execution_count": null,
   "metadata": {},
   "outputs": [],
   "source": [
    "dfNew.to_pickle(fileName)"
   ]
  },
  {
   "cell_type": "code",
   "execution_count": null,
   "metadata": {},
   "outputs": [],
   "source": [
    "dfNew = pd.read_pickle(fileName)"
   ]
  },
  {
   "cell_type": "code",
   "execution_count": null,
   "metadata": {
    "scrolled": false
   },
   "outputs": [],
   "source": [
    "qgrid.show_grid(dfNew)"
   ]
  },
  {
   "cell_type": "code",
   "execution_count": null,
   "metadata": {},
   "outputs": [],
   "source": [
    "dfNew.columns"
   ]
  },
  {
   "cell_type": "code",
   "execution_count": null,
   "metadata": {
    "scrolled": true
   },
   "outputs": [],
   "source": [
    "dfNew.rename(columns=\n",
    "    {'DF Double Faults Two serving faults in a row in one point, causing the player serving to lose the point.': 'DoubleFaults'},\n",
    "             inplace =True)\n",
    "dfNew"
   ]
  },
  {
   "cell_type": "code",
   "execution_count": null,
   "metadata": {},
   "outputs": [],
   "source": [
    "# This is a dictionary of columns to calculate the ranks, True means ascending, False means descending.\n",
    "cols2rank = {\n",
    "        'Aces': False,\n",
    "        'DoubleFaults': True,\n",
    "        '1st Srv %': False,\n",
    "        '1st Srv Pts % 1st Serve Points Won %': False,\n",
    "        '2nd Srv % 2nd Serve Points %': False,\n",
    "        'Srv Pts Won % Service Points Won %': False,\n",
    "        'BP SVD % Break Points Saved %': False,\n",
    "        'Srv Gm Won % Service Games Won %': False,\n",
    "        '1st Rtn Pts % 1st Return Points Won %': False,\n",
    "        '2nd Rtn Pts % 2nd Return Points Won %': False,\n",
    "        'Rtn Gm Won % Return Games Won %': False,\n",
    "        'BP CONV % Break Points Converted %': False,\n",
    "        'Rtn Pts Won % Return Points Won %': False,\n",
    "}"
   ]
  },
  {
   "cell_type": "code",
   "execution_count": null,
   "metadata": {
    "scrolled": true
   },
   "outputs": [],
   "source": [
    "for col in cols2rank.keys():\n",
    "    newCol = 'Rank_' + col\n",
    "    dfNew[newCol] = dfNew[col].rank(ascending=cols2rank[col])\n",
    "    \n",
    "qgrid.show_grid(dfNew)"
   ]
  },
  {
   "cell_type": "code",
   "execution_count": null,
   "metadata": {},
   "outputs": [],
   "source": [
    "rank_cols = [x for x in dfNew.columns if x.startswith('Rank')]\n",
    "rank_cols = ['Player'] + rank_cols\n",
    "rank_cols\n",
    "dfRank = dfNew[rank_cols]\n",
    "qgrid.show_grid(dfRank)"
   ]
  },
  {
   "cell_type": "code",
   "execution_count": null,
   "metadata": {},
   "outputs": [],
   "source": [
    "dfBar = dfNew.copy()\n",
    "dfBar['NegDoubleFaults'] = -1.0*dfBar['DoubleFaults']\n",
    "dfBar['ServeDiff'] = dfBar['Aces'] - dfBar['DoubleFaults']\n",
    "dfBar = dfBar[0:32]\n",
    "dfBar = dfBar.sort_values(by='ServeDiff', ascending=False)\n",
    "bar_plot = sns.barplot(x='Aces', y='Player', data=dfBar, color='blue')\n",
    "bar_plot = sns.barplot(x='NegDoubleFaults', y='Player', data=dfBar, color='red')\n",
    "bar_plot.set(xlabel=\"Aces (blue), Double Faults (red)\", ylabel=None, title = \"Serving Effectiveness\")"
   ]
  },
  {
   "cell_type": "code",
   "execution_count": null,
   "metadata": {},
   "outputs": [],
   "source": [
    "scatter_plot = sns.scatterplot(x='DoubleFaults', y='Aces', data=dfNew)\n",
    "scatter_plot.set(xlabel='Double Faults', ylabel='Aces', title = \"Serving Effectiveness\")\n",
    "\n",
    "lims = [\n",
    "    np.min([ax.get_xlim(), ax.get_ylim()]),  # min of both axes\n",
    "    np.max([ax.get_xlim(), ax.get_ylim()]),  # max of both axes\n",
    "]\n",
    "\n",
    "# now plot both limits against eachother\n",
    "ax.plot(lims, lims, 'k-', alpha=0.75, zorder=0)\n",
    "ax.set_aspect('equal')\n",
    "ax.set_xlim(lims)\n",
    "ax.set_ylim(lims)"
   ]
  },
  {
   "cell_type": "code",
   "execution_count": null,
   "metadata": {},
   "outputs": [],
   "source": [
    "qgrid.show_grid(dfRank)"
   ]
  },
  {
   "cell_type": "code",
   "execution_count": null,
   "metadata": {},
   "outputs": [],
   "source": [
    "import plotly.graph_objects as go\n",
    "\n",
    "dfTmp = dfRank.loc[dfRank.Rank < 10]\n",
    "categories = dfTmp.columns[2:-1]\n",
    "\n",
    "fig = go.Figure()\n",
    "\n",
    "for i in range(0, 4):\n",
    "    fig.add_trace(go.Scatterpolar(\n",
    "        r=dfTmp.iloc[i][2:-1],\n",
    "        theta=categories,\n",
    "        fill='toself',\n",
    "        name=dfTmp.iloc[i,0]\n",
    "        ))\n",
    "\n",
    "fig.show()"
   ]
  },
  {
   "cell_type": "code",
   "execution_count": null,
   "metadata": {},
   "outputs": [],
   "source": [
    "from pandas.plotting import parallel_coordinates\n",
    "\n",
    "dfTmp = dfRank.loc[dfRank.Rank < 11].copy()\n",
    "dfTmp.Player = dfTmp.Player.str.replace(r'^.*([A-Z]\\. .*)', r'\\1', regex=True) # Why is the str required here?\n",
    "\n",
    "fig, ax = plt.subplots(figsize=(12,4))\n",
    "parallel_coordinates(dfTmp, 'Player', ax=ax,\n",
    "                     colormap='viridis',\n",
    "                     alpha=0.5)\n",
    "\n",
    "ax.set_xticklabels(ax.get_xticklabels(), rotation=90)\n",
    "ax.legend(bbox_to_anchor=(1.0, 1.0))"
   ]
  },
  {
   "cell_type": "code",
   "execution_count": null,
   "metadata": {},
   "outputs": [],
   "source": []
  }
 ],
 "metadata": {
  "kernelspec": {
   "display_name": "Python 3 (ipykernel)",
   "language": "python",
   "name": "python3"
  },
  "language_info": {
   "codemirror_mode": {
    "name": "ipython",
    "version": 3
   },
   "file_extension": ".py",
   "mimetype": "text/x-python",
   "name": "python",
   "nbconvert_exporter": "python",
   "pygments_lexer": "ipython3",
   "version": "3.10.13"
  }
 },
 "nbformat": 4,
 "nbformat_minor": 4
}
